{
 "cells": [
  {
   "cell_type": "markdown",
   "metadata": {
    "toc": true
   },
   "source": [
    "<h1>Содержание<span class=\"tocSkip\"></span></h1>\n",
    "<div class=\"toc\"><ul class=\"toc-item\"><li><ul class=\"toc-item\"><li><span><a href=\"#Подключение-библиотек\" data-toc-modified-id=\"Подключение-библиотек-0.1\"><span class=\"toc-item-num\">0.1&nbsp;&nbsp;</span>Подключение библиотек</a></span></li></ul></li><li><span><a href=\"#Прогнозирование-ряда-со-сложной-сезонностью\" data-toc-modified-id=\"Прогнозирование-ряда-со-сложной-сезонностью-1\"><span class=\"toc-item-num\">1&nbsp;&nbsp;</span>Прогнозирование ряда со сложной сезонностью</a></span><ul class=\"toc-item\"><li><span><a href=\"#Вспомогательные-функции\" data-toc-modified-id=\"Вспомогательные-функции-1.1\"><span class=\"toc-item-num\">1.1&nbsp;&nbsp;</span>Вспомогательные функции</a></span></li><li><span><a href=\"#Загрузка-данных\" data-toc-modified-id=\"Загрузка-данных-1.2\"><span class=\"toc-item-num\">1.2&nbsp;&nbsp;</span>Загрузка данных</a></span></li></ul></li></ul></div>"
   ]
  },
  {
   "cell_type": "markdown",
   "metadata": {},
   "source": [
    "## Подключение библиотек"
   ]
  },
  {
   "cell_type": "code",
   "execution_count": 1,
   "metadata": {
    "ExecuteTime": {
     "end_time": "2020-07-01T21:53:52.580593Z",
     "start_time": "2020-07-01T21:53:48.926053Z"
    }
   },
   "outputs": [
    {
     "name": "stdout",
     "output_type": "stream",
     "text": [
      "Populating the interactive namespace from numpy and matplotlib\n"
     ]
    }
   ],
   "source": [
    "from os import path\n",
    "import calendar\n",
    "\n",
    "import pandas as pd\n",
    "import numpy as np\n",
    "\n",
    "import warnings\n",
    "from scipy import stats\n",
    "import statsmodels.api as sm\n",
    "\n",
    "%pylab inline\n",
    "from itertools import product"
   ]
  },
  {
   "cell_type": "code",
   "execution_count": 2,
   "metadata": {
    "ExecuteTime": {
     "end_time": "2020-07-01T21:53:52.591541Z",
     "start_time": "2020-07-01T21:53:52.581567Z"
    },
    "code_folding": [
     1
    ],
    "deletable": false,
    "editable": false
   },
   "outputs": [],
   "source": [
    "# https://habr.com/ru/post/276725/\n",
    "def log_progress(sequence, every=None, size=None, name='Items'):\n",
    "    from ipywidgets import IntProgress, HTML, VBox\n",
    "    from IPython.display import display\n",
    "\n",
    "    is_iterator = False\n",
    "    if size is None:\n",
    "        try:\n",
    "            size = len(sequence)\n",
    "        except TypeError:\n",
    "            is_iterator = True\n",
    "    if size is not None:\n",
    "        if every is None:\n",
    "            if size <= 200:\n",
    "                every = 1\n",
    "            else:\n",
    "                every = int(size / 200)     # every 0.5%\n",
    "    else:\n",
    "        assert every is not None, 'sequence is iterator, set every'\n",
    "\n",
    "    if is_iterator:\n",
    "        progress = IntProgress(min=0, max=1, value=1)\n",
    "        progress.bar_style = 'info'\n",
    "    else:\n",
    "        progress = IntProgress(min=0, max=size, value=0)\n",
    "    label = HTML()\n",
    "    box = VBox(children=[label, progress])\n",
    "    display(box)\n",
    "\n",
    "    index = 0\n",
    "    try:\n",
    "        for index, record in enumerate(sequence, 1):\n",
    "            if index == 1 or index % every == 0:\n",
    "                if is_iterator:\n",
    "                    label.value = '{name}: {index} / ?'.format(\n",
    "                        name=name,\n",
    "                        index=index\n",
    "                    )\n",
    "                else:\n",
    "                    progress.value = index\n",
    "                    label.value = u'{name}: {index} / {size}'.format(\n",
    "                        name=name,\n",
    "                        index=index,\n",
    "                        size=size\n",
    "                    )\n",
    "            yield record\n",
    "    except:\n",
    "        progress.bar_style = 'danger'\n",
    "        raise\n",
    "    else:\n",
    "        progress.bar_style = 'success'\n",
    "        progress.value = index\n",
    "        label.value = \"{name}: {index}\".format(\n",
    "            name=name,\n",
    "            index=str(index or '?')\n",
    "        )"
   ]
  },
  {
   "cell_type": "markdown",
   "metadata": {},
   "source": [
    "# Прогнозирование ряда со сложной сезонностью"
   ]
  },
  {
   "cell_type": "markdown",
   "metadata": {
    "heading_collapsed": true
   },
   "source": [
    "## Вспомогательные функции"
   ]
  },
  {
   "cell_type": "code",
   "execution_count": 3,
   "metadata": {
    "ExecuteTime": {
     "end_time": "2020-07-01T21:53:52.609068Z",
     "start_time": "2020-07-01T21:53:52.592623Z"
    },
    "deletable": false,
    "editable": false,
    "hidden": true
   },
   "outputs": [],
   "source": [
    "def get_data_file_name(year, month):\n",
    "    return \"{}-{:02d}.csv\".format(year, month)\n",
    "\n",
    "def get_bin_ind(x, xmin, xmax, bins):\n",
    "    return ((x - xmin) / ((xmax - xmin)/bins)).values.astype(int)\n",
    "\n",
    "def get_bin(x, y, xmin, xmax, ymin, ymax, xbins, ybins):\n",
    "    return get_bin_ind(x, xmin, xmax, xbins)*xbins + get_bin_ind(y, ymin, ymax, ybins)\n",
    "\n",
    "def read_data(ym_list):\n",
    "    for y, m in ym_list:\n",
    "        data_file = path.join('data', get_data_file_name(y, m))\n",
    "        d = pd.read_csv(data_file)\n",
    "        if \"vendor_id\" in d.columns:\n",
    "            d.rename(columns={\"vendor_id\": \"VendorID\"}, inplace=True)\n",
    "        if \"pickup_datetime\" in d.columns:\n",
    "            d.rename(columns={\"pickup_datetime\": \"tpep_pickup_datetime\"}, inplace=True)\n",
    "        if \" pickup_datetime\" in d.columns:\n",
    "            d.rename(columns={\" pickup_datetime\": \"tpep_pickup_datetime\"}, inplace=True)\n",
    "        if \"dropoff_datetime\" in d.columns:\n",
    "            d.rename(columns={\"dropoff_datetime\": \"tpep_dropoff_datetime\"}, inplace=True)\n",
    "        if \" dropoff_datetime\" in d.columns:\n",
    "            d.rename(columns={\" dropoff_datetime\": \"tpep_dropoff_datetime\"}, inplace=True)\n",
    "        if \" passenger_count\" in d.columns:\n",
    "            d.rename(columns={\" passenger_count\": \"passenger_count\"}, inplace=True)\n",
    "        if \" trip_distance\" in d.columns:\n",
    "            d.rename(columns={\" trip_distance\": \"trip_distance\"}, inplace=True)\n",
    "        if \" pickup_longitude\" in d.columns:\n",
    "            d.rename(columns={\" pickup_longitude\": \"pickup_longitude\"}, inplace=True)\n",
    "        if \" pickup_latitude\" in d.columns:\n",
    "            d.rename(columns={\" pickup_latitude\": \"pickup_latitude\"}, inplace=True)            \n",
    "        yield d\n",
    "        \n",
    "def read_columns(ym_list):\n",
    "    for y, m in ym_list:\n",
    "        data_file = path.join('data', get_data_file_name(y, m))\n",
    "        d = pd.read_csv(data_file, nrows=1).columns\n",
    "        yield d"
   ]
  },
  {
   "cell_type": "code",
   "execution_count": 4,
   "metadata": {
    "ExecuteTime": {
     "end_time": "2020-07-01T21:53:52.616077Z",
     "start_time": "2020-07-01T21:53:52.610065Z"
    },
    "deletable": false,
    "editable": false,
    "hidden": true
   },
   "outputs": [],
   "source": [
    "def clear_data(d):\n",
    "    d[\"tpep_pickup_datetime\"] = pd.to_datetime(d.tpep_pickup_datetime)\n",
    "    d[\"tpep_dropoff_datetime\"] = pd.to_datetime(d.tpep_dropoff_datetime)\n",
    "    \n",
    "    duration = d.tpep_dropoff_datetime - d.tpep_pickup_datetime\n",
    "    d = d[duration > datetime.timedelta(seconds=0)]\n",
    "    d = d[d.passenger_count!=0]\n",
    "    d = d[d.trip_distance!=0]\n",
    "    d[\"tpep_pickup_datetime\"] = d.tpep_pickup_datetime.dt.floor('H')\n",
    "    inbound = ((d.pickup_longitude >= x0) & (d.pickup_longitude <= x1) & \n",
    "         (d.pickup_latitude >= y0) & (d.pickup_latitude <= y1))\n",
    "    d = d[inbound]\n",
    "    return d"
   ]
  },
  {
   "cell_type": "code",
   "execution_count": 5,
   "metadata": {
    "ExecuteTime": {
     "end_time": "2020-07-01T21:53:52.621037Z",
     "start_time": "2020-07-01T21:53:52.617047Z"
    },
    "deletable": false,
    "editable": false,
    "hidden": true
   },
   "outputs": [],
   "source": [
    "def add_region(d):\n",
    "    region = get_bin(d.pickup_longitude, d.pickup_latitude, xmin, xmax, ymin, ymax, 50, 50) + 1\n",
    "    d['region'] = region\n",
    "    return d"
   ]
  },
  {
   "cell_type": "code",
   "execution_count": 6,
   "metadata": {
    "ExecuteTime": {
     "end_time": "2020-07-01T21:53:52.628016Z",
     "start_time": "2020-07-01T21:53:52.622033Z"
    },
    "deletable": false,
    "editable": false,
    "hidden": true
   },
   "outputs": [],
   "source": [
    "def agg_data(d, year, month):\n",
    "    last_day = calendar.monthrange(year, month)[1]\n",
    "    counts = d.groupby(['region', 'tpep_pickup_datetime']).count()['VendorID']\n",
    "    counts.name = 'count'\n",
    "    counts_u = counts.unstack(level=0, fill_value=0)\n",
    "    new_index = pd.date_range(datetime.datetime(year=year, month=month, day=1),\n",
    "                              datetime.datetime(year=year, month=month, day=last_day, hour=23), freq='H')\n",
    "    new_columns = range(1,2501)\n",
    "    counts_full = counts_u.reindex(index=new_index, columns=new_columns).fillna(0).astype(int)\n",
    "    return counts_full"
   ]
  },
  {
   "cell_type": "markdown",
   "metadata": {},
   "source": [
    "## Загрузка данных"
   ]
  },
  {
   "cell_type": "markdown",
   "metadata": {},
   "source": [
    "Посмотрим на названия столбцов"
   ]
  },
  {
   "cell_type": "code",
   "execution_count": 7,
   "metadata": {
    "ExecuteTime": {
     "end_time": "2020-07-01T21:53:54.381126Z",
     "start_time": "2020-07-01T21:53:52.630012Z"
    },
    "deletable": false,
    "editable": false
   },
   "outputs": [
    {
     "data": {
      "application/vnd.jupyter.widget-view+json": {
       "model_id": "975a7acc5007406c9da6a01f13acb54d",
       "version_major": 2,
       "version_minor": 0
      },
      "text/plain": [
       "VBox(children=(HTML(value=''), IntProgress(value=0, max=42)))"
      ]
     },
     "metadata": {},
     "output_type": "display_data"
    }
   ],
   "source": [
    "ym_list = list(product(range(2013,2017), range(1,13)))[:-6]\n",
    "columns = []\n",
    "for d in log_progress(read_columns(ym_list), every=1, size=42):\n",
    "    columns.append(d)"
   ]
  },
  {
   "cell_type": "code",
   "execution_count": 8,
   "metadata": {
    "ExecuteTime": {
     "end_time": "2020-07-01T21:53:54.388086Z",
     "start_time": "2020-07-01T21:53:54.382101Z"
    },
    "deletable": false,
    "editable": false,
    "scrolled": false
   },
   "outputs": [],
   "source": [
    "cols = pd.DataFrame(columns)"
   ]
  },
  {
   "cell_type": "code",
   "execution_count": 9,
   "metadata": {
    "ExecuteTime": {
     "end_time": "2020-07-01T21:53:54.393072Z",
     "start_time": "2020-07-01T21:53:54.389082Z"
    }
   },
   "outputs": [],
   "source": [
    "# cols\n",
    "# Тут я посмотрел, что некоторые столбцы по-разному называются и учел это при загрузке данных в read_data"
   ]
  },
  {
   "cell_type": "code",
   "execution_count": 10,
   "metadata": {
    "ExecuteTime": {
     "end_time": "2020-07-01T21:53:54.407061Z",
     "start_time": "2020-07-01T21:53:54.394068Z"
    },
    "deletable": false,
    "editable": false
   },
   "outputs": [],
   "source": [
    "regions = pd.read_csv('regions.csv', ';')\n",
    "xmin = regions.west.min()\n",
    "xmax = regions.east.max()\n",
    "ymin = regions.south.min()\n",
    "ymax = regions.north.max()"
   ]
  },
  {
   "cell_type": "code",
   "execution_count": 11,
   "metadata": {
    "ExecuteTime": {
     "end_time": "2020-07-01T23:20:15.861392Z",
     "start_time": "2020-07-01T21:53:54.408059Z"
    },
    "deletable": false,
    "editable": false,
    "run_control": {
     "frozen": true
    }
   },
   "outputs": [
    {
     "data": {
      "application/vnd.jupyter.widget-view+json": {
       "model_id": "a3ab41ee77a6407e8df10d92b64127bf",
       "version_major": 2,
       "version_minor": 0
      },
      "text/plain": [
       "VBox(children=(HTML(value=''), IntProgress(value=0, max=42)))"
      ]
     },
     "metadata": {},
     "output_type": "display_data"
    },
    {
     "name": "stderr",
     "output_type": "stream",
     "text": [
      "E:\\Users\\alex\\anaconda3\\lib\\site-packages\\IPython\\core\\interactiveshell.py:3331: DtypeWarning: Columns (8) have mixed types.Specify dtype option on import or set low_memory=False.\n",
      "  exec(code_obj, self.user_global_ns, self.user_ns)\n"
     ]
    }
   ],
   "source": [
    "ym_list = list(product(range(2013,2017), range(1,13)))[:-6]\n",
    "counts = []\n",
    "x0 ,x1, y0, y1 = -74.25559, -73.70000999999999, 40.49612, 40.91553\n",
    "for d in log_progress(read_data(ym_list), every=1, size=42):\n",
    "    d = clear_data(d)\n",
    "    month = d.tpep_dropoff_datetime.dt.month.iloc[0]\n",
    "    year = d.tpep_dropoff_datetime.dt.year.iloc[0]\n",
    "    d = add_region(d)\n",
    "    counts_full = agg_data(d, year, month)\n",
    "    counts.append(counts_full)\n",
    "    del d"
   ]
  },
  {
   "cell_type": "code",
   "execution_count": 12,
   "metadata": {
    "ExecuteTime": {
     "end_time": "2020-07-01T23:20:18.570352Z",
     "start_time": "2020-07-01T23:20:15.921491Z"
    },
    "deletable": false,
    "editable": false,
    "run_control": {
     "frozen": true
    }
   },
   "outputs": [],
   "source": [
    "full_counts = pd.concat(counts)\n",
    "full_counts.to_pickle(\"full_counts.pkl\")"
   ]
  },
  {
   "cell_type": "code",
   "execution_count": 13,
   "metadata": {
    "ExecuteTime": {
     "end_time": "2020-07-01T23:20:18.575340Z",
     "start_time": "2020-07-01T23:20:18.571349Z"
    }
   },
   "outputs": [],
   "source": [
    "# full_counts = pd.read_pickle(\"full_counts.pkl\")"
   ]
  },
  {
   "cell_type": "code",
   "execution_count": 15,
   "metadata": {
    "ExecuteTime": {
     "end_time": "2020-07-01T23:20:40.044304Z",
     "start_time": "2020-07-01T23:20:39.769419Z"
    }
   },
   "outputs": [],
   "source": [
    "fc = pd.read_pickle(\"full_counts.pkl\")"
   ]
  },
  {
   "cell_type": "code",
   "execution_count": 28,
   "metadata": {
    "ExecuteTime": {
     "end_time": "2020-07-01T23:23:36.340302Z",
     "start_time": "2020-07-01T23:23:36.019646Z"
    }
   },
   "outputs": [
    {
     "data": {
      "text/plain": [
       "<matplotlib.axes._subplots.AxesSubplot at 0x1a52b6afe88>"
      ]
     },
     "execution_count": 28,
     "metadata": {},
     "output_type": "execute_result"
    },
    {
     "data": {
      "image/png": "[encoded data removed]",
      "text/plain": [
       "<Figure size 1080x360 with 1 Axes>"
      ]
     },
     "metadata": {
      "needs_background": "light"
     },
     "output_type": "display_data"
    }
   ],
   "source": [
    "pylab.figure(figsize=(15,5))\n",
    "fc[1231].iloc[-365*24:].plot()"
   ]
  }
 ],
 "metadata": {
  "hide_input": false,
  "kernelspec": {
   "display_name": "Python 3",
   "language": "python",
   "name": "python3"
  },
  "language_info": {
   "codemirror_mode": {
    "name": "ipython",
    "version": 3
   },
   "file_extension": ".py",
   "mimetype": "text/x-python",
   "name": "python",
   "nbconvert_exporter": "python",
   "pygments_lexer": "ipython3",
   "version": "3.7.6"
  },
  "toc": {
   "base_numbering": 1,
   "nav_menu": {},
   "number_sections": true,
   "sideBar": true,
   "skip_h1_title": false,
   "title_cell": "Содержание",
   "title_sidebar": "Содержание",
   "toc_cell": true,
   "toc_position": {},
   "toc_section_display": true,
   "toc_window_display": true
  },
  "varInspector": {
   "cols": {
    "lenName": 16,
    "lenType": 16,
    "lenVar": 40
   },
   "kernels_config": {
    "python": {
     "delete_cmd_postfix": "",
     "delete_cmd_prefix": "del ",
     "library": "var_list.py",
     "varRefreshCmd": "print(var_dic_list())"
    },
    "r": {
     "delete_cmd_postfix": ") ",
     "delete_cmd_prefix": "rm(",
     "library": "var_list.r",
     "varRefreshCmd": "cat(var_dic_list()) "
    }
   },
   "position": {
    "height": "606.85px",
    "left": "1544px",
    "right": "20px",
    "top": "115px",
    "width": "366px"
   },
   "types_to_exclude": [
    "module",
    "function",
    "builtin_function_or_method",
    "instance",
    "_Feature"
   ],
   "window_display": false
  }
 },
 "nbformat": 4,
 "nbformat_minor": 4
}
