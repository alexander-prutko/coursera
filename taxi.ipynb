{
 "cells": [
  {
   "cell_type": "markdown",
   "metadata": {
    "toc": true
   },
   "source": [
    "<h1>Содержание<span class=\"tocSkip\"></span></h1>\n",
    "<div class=\"toc\"><ul class=\"toc-item\"><li><ul class=\"toc-item\"><li><span><a href=\"#Подключение-библиотек\" data-toc-modified-id=\"Подключение-библиотек-0.1\"><span class=\"toc-item-num\">0.1&nbsp;&nbsp;</span>Подключение библиотек</a></span></li></ul></li><li><span><a href=\"#Знакомство-с-данными-и-агрегация\" data-toc-modified-id=\"Знакомство-с-данными-и-агрегация-1\"><span class=\"toc-item-num\">1&nbsp;&nbsp;</span>Знакомство с данными и агрегация</a></span><ul class=\"toc-item\"><li><span><a href=\"#Обзор\" data-toc-modified-id=\"Обзор-1.1\"><span class=\"toc-item-num\">1.1&nbsp;&nbsp;</span>Обзор</a></span></li><li><span><a href=\"#Фильтрация\" data-toc-modified-id=\"Фильтрация-1.2\"><span class=\"toc-item-num\">1.2&nbsp;&nbsp;</span>Фильтрация</a></span></li><li><span><a href=\"#Агрегация\" data-toc-modified-id=\"Агрегация-1.3\"><span class=\"toc-item-num\">1.3&nbsp;&nbsp;</span>Агрегация</a></span></li><li><span><a href=\"#Такси-Empire-State-Building\" data-toc-modified-id=\"Такси-Empire-State-Building-1.4\"><span class=\"toc-item-num\">1.4&nbsp;&nbsp;</span>Такси Empire State Building</a></span></li><li><span><a href=\"#Число-пар-час-ячейка-в-мае-2016,-для-которых-не-было-совершено-ни-одной-поездки\" data-toc-modified-id=\"Число-пар-час-ячейка-в-мае-2016,-для-которых-не-было-совершено-ни-одной-поездки-1.5\"><span class=\"toc-item-num\">1.5&nbsp;&nbsp;</span>Число пар час-ячейка в мае 2016, для которых не было совершено ни одной поездки</a></span></li><li><span><a href=\"#Сохренени-агрегированных-данных\" data-toc-modified-id=\"Сохренени-агрегированных-данных-1.6\"><span class=\"toc-item-num\">1.6&nbsp;&nbsp;</span>Сохренени агрегированных данных</a></span></li></ul></li></ul></div>"
   ]
  },
  {
   "cell_type": "markdown",
   "metadata": {},
   "source": [
    "## Подключение библиотек"
   ]
  },
  {
   "cell_type": "code",
   "execution_count": 1,
   "metadata": {
    "ExecuteTime": {
     "end_time": "2020-06-29T17:19:04.225202Z",
     "start_time": "2020-06-29T17:18:54.318535Z"
    }
   },
   "outputs": [
    {
     "name": "stdout",
     "output_type": "stream",
     "text": [
      "Populating the interactive namespace from numpy and matplotlib\n"
     ]
    },
    {
     "name": "stderr",
     "output_type": "stream",
     "text": [
      "E:\\Users\\alex\\anaconda3\\lib\\site-packages\\IPython\\core\\magics\\pylab.py:160: UserWarning: pylab import has clobbered these variables: ['datetime']\n",
      "`%matplotlib` prevents importing * from pylab and numpy\n",
      "  \"\\n`%matplotlib` prevents importing * from pylab and numpy\"\n"
     ]
    }
   ],
   "source": [
    "import requests\n",
    "from os import path\n",
    "from IPython.lib import backgroundjobs as bg\n",
    "\n",
    "import pandas as pd\n",
    "import numpy as np\n",
    "from datetime import datetime\n",
    "from scipy.stats import binned_statistic_2d\n",
    "\n",
    "import seaborn as sn\n",
    "\n",
    "%pylab inline"
   ]
  },
  {
   "cell_type": "code",
   "execution_count": 2,
   "metadata": {
    "ExecuteTime": {
     "end_time": "2020-06-29T17:19:06.985328Z",
     "start_time": "2020-06-29T17:19:06.973946Z"
    },
    "code_folding": [
     1
    ],
    "deletable": false,
    "editable": false
   },
   "outputs": [],
   "source": [
    "# https://habr.com/ru/post/276725/\n",
    "def log_progress(sequence, every=None, size=None, name='Items'):\n",
    "    from ipywidgets import IntProgress, HTML, VBox\n",
    "    from IPython.display import display\n",
    "\n",
    "    is_iterator = False\n",
    "    if size is None:\n",
    "        try:\n",
    "            size = len(sequence)\n",
    "        except TypeError:\n",
    "            is_iterator = True\n",
    "    if size is not None:\n",
    "        if every is None:\n",
    "            if size <= 200:\n",
    "                every = 1\n",
    "            else:\n",
    "                every = int(size / 200)     # every 0.5%\n",
    "    else:\n",
    "        assert every is not None, 'sequence is iterator, set every'\n",
    "\n",
    "    if is_iterator:\n",
    "        progress = IntProgress(min=0, max=1, value=1)\n",
    "        progress.bar_style = 'info'\n",
    "    else:\n",
    "        progress = IntProgress(min=0, max=size, value=0)\n",
    "    label = HTML()\n",
    "    box = VBox(children=[label, progress])\n",
    "    display(box)\n",
    "\n",
    "    index = 0\n",
    "    try:\n",
    "        for index, record in enumerate(sequence, 1):\n",
    "            if index == 1 or index % every == 0:\n",
    "                if is_iterator:\n",
    "                    label.value = '{name}: {index} / ?'.format(\n",
    "                        name=name,\n",
    "                        index=index\n",
    "                    )\n",
    "                else:\n",
    "                    progress.value = index\n",
    "                    label.value = u'{name}: {index} / {size}'.format(\n",
    "                        name=name,\n",
    "                        index=index,\n",
    "                        size=size\n",
    "                    )\n",
    "            yield record\n",
    "    except:\n",
    "        progress.bar_style = 'danger'\n",
    "        raise\n",
    "    else:\n",
    "        progress.bar_style = 'success'\n",
    "        progress.value = index\n",
    "        label.value = \"{name}: {index}\".format(\n",
    "            name=name,\n",
    "            index=str(index or '?')\n",
    "        )"
   ]
  },
  {
   "cell_type": "code",
   "execution_count": 3,
   "metadata": {
    "ExecuteTime": {
     "end_time": "2020-06-29T17:19:07.761462Z",
     "start_time": "2020-06-29T17:19:07.756476Z"
    },
    "code_folding": [
     0
    ],
    "deletable": false,
    "editable": false
   },
   "outputs": [],
   "source": [
    "def download_data(from_url, to_file):\n",
    "    r = requests.get(from_url, stream=True)\n",
    "    with open(to_file, 'wb') as f:\n",
    "        total_length = int(r.headers.get('content-length'))\n",
    "        for chunk in log_progress(r.iter_content(chunk_size=1024), every=100, size=int(total_length/1024) + 1):\n",
    "            if chunk:\n",
    "                f.write(chunk)\n",
    "                f.flush()"
   ]
  },
  {
   "cell_type": "code",
   "execution_count": 4,
   "metadata": {
    "ExecuteTime": {
     "end_time": "2020-06-29T17:19:08.215189Z",
     "start_time": "2020-06-29T17:19:08.211199Z"
    },
    "code_folding": [
     0
    ],
    "deletable": false,
    "editable": false
   },
   "outputs": [],
   "source": [
    "def get_url(year, month):\n",
    "    return \"https://s3.amazonaws.com/nyc-tlc/trip+data/yellow_tripdata_{}-{:02d}.csv\".format(year, month)"
   ]
  },
  {
   "cell_type": "code",
   "execution_count": 5,
   "metadata": {
    "ExecuteTime": {
     "end_time": "2020-06-29T17:19:08.574588Z",
     "start_time": "2020-06-29T17:19:08.571573Z"
    },
    "code_folding": [
     0
    ],
    "deletable": false,
    "editable": false
   },
   "outputs": [],
   "source": [
    "def get_data_file_name(year, month):\n",
    "    return \"{}-{:02d}.csv\".format(year, month)"
   ]
  },
  {
   "cell_type": "code",
   "execution_count": 17,
   "metadata": {
    "ExecuteTime": {
     "end_time": "2020-06-23T15:22:54.347330Z",
     "start_time": "2020-06-23T14:16:31.952129Z"
    },
    "deletable": false,
    "editable": false,
    "run_control": {
     "frozen": true
    }
   },
   "outputs": [
    {
     "data": {
      "application/vnd.jupyter.widget-view+json": {
       "model_id": "d498370c8c2c46fea7d3166510af9f0f",
       "version_major": 2,
       "version_minor": 0
      },
      "text/plain": [
       "VBox(children=(HTML(value=''), IntProgress(value=0, max=1814968)))"
      ]
     },
     "metadata": {},
     "output_type": "display_data"
    }
   ],
   "source": [
    "download_data(get_url(2016, 5), get_data_file_name(2016, 5))"
   ]
  },
  {
   "cell_type": "code",
   "execution_count": 545,
   "metadata": {
    "ExecuteTime": {
     "end_time": "2020-06-26T22:49:03.276427Z",
     "start_time": "2020-06-26T22:49:03.272661Z"
    },
    "deletable": false,
    "editable": false,
    "run_control": {
     "frozen": true
    }
   },
   "outputs": [],
   "source": [
    "jobs = bg.BackgroundJobManager()"
   ]
  },
  {
   "cell_type": "code",
   "execution_count": 546,
   "metadata": {
    "ExecuteTime": {
     "end_time": "2020-06-26T22:49:05.710383Z",
     "start_time": "2020-06-26T22:49:05.519389Z"
    },
    "deletable": false,
    "editable": false,
    "run_control": {
     "frozen": true
    }
   },
   "outputs": [],
   "source": [
    "for year in range(2013,2016):\n",
    "    for month in range(1,13):\n",
    "        jobs.new(download_data, get_url(year, month), path.join('data', get_data_file_name(year, month)))"
   ]
  },
  {
   "cell_type": "code",
   "execution_count": 6,
   "metadata": {
    "ExecuteTime": {
     "end_time": "2020-06-22T20:07:47.761709Z",
     "start_time": "2020-06-22T20:07:47.744204Z"
    },
    "deletable": false,
    "editable": false,
    "run_control": {
     "frozen": true
    }
   },
   "outputs": [],
   "source": [
    "for year in range(2016,2020):\n",
    "    for month in range(1,13):\n",
    "        jobs.new(download_data, get_url(year, month), path.join('data', get_data_file_name(year, month)))"
   ]
  },
  {
   "cell_type": "markdown",
   "metadata": {},
   "source": [
    "# Знакомство с данными и агрегация"
   ]
  },
  {
   "cell_type": "code",
   "execution_count": 6,
   "metadata": {
    "ExecuteTime": {
     "end_time": "2020-06-29T17:19:41.503481Z",
     "start_time": "2020-06-29T17:19:16.695341Z"
    },
    "deletable": false,
    "editable": false,
    "run_control": {
     "frozen": true
    }
   },
   "outputs": [],
   "source": [
    "d_2016_05 = pd.read_csv('2016-05.csv')"
   ]
  },
  {
   "cell_type": "markdown",
   "metadata": {
    "deletable": false,
    "editable": false,
    "run_control": {
     "frozen": true
    }
   },
   "source": [
    "columns                   | description\n",
    "--------------------------|-------------\n",
    "**VendorID**              | vendor (int)\n",
    "**tpep_pickup_datetime**  | pick-up dates/times (datetime)\n",
    "**tpep_dropoff_datetime** | drop-off dates/times (datetime)\n",
    "**passenger_count**       | passenger counts (int)\n",
    "**trip_distance**         | trip distances (float, km/m?)\n",
    "**pickup_longitude**      | pickup longitudes (float, °)\n",
    "**pickup_latitude**       | pickup latitude (float, °)\n",
    "**RatecodeID**            | rate code (int)\n",
    "**store_and_fwd_flag**    | store and fwd flag (str, N/Y)\n",
    "**dropoff_longitude**     | dropoff longitude (float, °)\n",
    "**dropoff_latitude**      | dropoff latitude (float, °)\n",
    "**payment_type**          | payment type (int)\n",
    "**fare_amount**           | fare amount (float, \\$)\n",
    "**extra**                 | extra (float, \\$)\n",
    "**mta_tax**               | Metropolitan Transit Authority tax (float, \\$)\n",
    "**tip_amount**            | tip amount (float, \\$)\n",
    "**tolls_amount**          | tolls amount (float, \\$)\n",
    "**improvement_surcharge** | improvement surcharge (float, \\$)\n",
    "**total_amount**          | total amount (float, \\$)"
   ]
  },
  {
   "cell_type": "code",
   "execution_count": 7,
   "metadata": {
    "ExecuteTime": {
     "end_time": "2020-06-29T17:21:24.277371Z",
     "start_time": "2020-06-29T17:21:13.836878Z"
    },
    "deletable": false,
    "editable": false,
    "run_control": {
     "frozen": true
    }
   },
   "outputs": [],
   "source": [
    "d_2016_05[\"tpep_pickup_datetime\"] = pd.to_datetime(d_2016_05.tpep_pickup_datetime)\n",
    "d_2016_05[\"tpep_dropoff_datetime\"] = pd.to_datetime(d_2016_05.tpep_dropoff_datetime)"
   ]
  },
  {
   "cell_type": "markdown",
   "metadata": {},
   "source": [
    "## Обзор"
   ]
  },
  {
   "cell_type": "code",
   "execution_count": 8,
   "metadata": {
    "ExecuteTime": {
     "end_time": "2020-06-29T17:21:24.324934Z",
     "start_time": "2020-06-29T17:21:24.279364Z"
    },
    "deletable": false,
    "editable": false,
    "run_control": {
     "frozen": true
    }
   },
   "outputs": [
    {
     "data": {
      "text/html": [
       "<div>\n",
       "<style scoped>\n",
       "    .dataframe tbody tr th:only-of-type {\n",
       "        vertical-align: middle;\n",
       "    }\n",
       "\n",
       "    .dataframe tbody tr th {\n",
       "        vertical-align: top;\n",
       "    }\n",
       "\n",
       "    .dataframe thead th {\n",
       "        text-align: right;\n",
       "    }\n",
       "</style>\n",
       "<table border=\"1\" class=\"dataframe\">\n",
       "  <thead>\n",
       "    <tr style=\"text-align: right;\">\n",
       "      <th></th>\n",
       "      <th>VendorID</th>\n",
       "      <th>tpep_pickup_datetime</th>\n",
       "      <th>tpep_dropoff_datetime</th>\n",
       "      <th>passenger_count</th>\n",
       "      <th>trip_distance</th>\n",
       "      <th>pickup_longitude</th>\n",
       "      <th>pickup_latitude</th>\n",
       "      <th>RatecodeID</th>\n",
       "      <th>store_and_fwd_flag</th>\n",
       "      <th>dropoff_longitude</th>\n",
       "      <th>dropoff_latitude</th>\n",
       "      <th>payment_type</th>\n",
       "      <th>fare_amount</th>\n",
       "      <th>extra</th>\n",
       "      <th>mta_tax</th>\n",
       "      <th>tip_amount</th>\n",
       "      <th>tolls_amount</th>\n",
       "      <th>improvement_surcharge</th>\n",
       "      <th>total_amount</th>\n",
       "    </tr>\n",
       "  </thead>\n",
       "  <tbody>\n",
       "    <tr>\n",
       "      <th>0</th>\n",
       "      <td>1</td>\n",
       "      <td>2016-05-01</td>\n",
       "      <td>2016-05-01 00:17:31</td>\n",
       "      <td>1</td>\n",
       "      <td>3.60</td>\n",
       "      <td>-73.985901</td>\n",
       "      <td>40.768040</td>\n",
       "      <td>1</td>\n",
       "      <td>N</td>\n",
       "      <td>-73.983986</td>\n",
       "      <td>40.730099</td>\n",
       "      <td>1</td>\n",
       "      <td>15.0</td>\n",
       "      <td>0.5</td>\n",
       "      <td>0.5</td>\n",
       "      <td>1.50</td>\n",
       "      <td>0.0</td>\n",
       "      <td>0.3</td>\n",
       "      <td>17.80</td>\n",
       "    </tr>\n",
       "    <tr>\n",
       "      <th>1</th>\n",
       "      <td>2</td>\n",
       "      <td>2016-05-01</td>\n",
       "      <td>2016-05-01 00:07:31</td>\n",
       "      <td>1</td>\n",
       "      <td>1.68</td>\n",
       "      <td>-73.991577</td>\n",
       "      <td>40.744751</td>\n",
       "      <td>1</td>\n",
       "      <td>N</td>\n",
       "      <td>-73.975700</td>\n",
       "      <td>40.765469</td>\n",
       "      <td>1</td>\n",
       "      <td>7.5</td>\n",
       "      <td>0.5</td>\n",
       "      <td>0.5</td>\n",
       "      <td>0.88</td>\n",
       "      <td>0.0</td>\n",
       "      <td>0.3</td>\n",
       "      <td>9.68</td>\n",
       "    </tr>\n",
       "    <tr>\n",
       "      <th>2</th>\n",
       "      <td>2</td>\n",
       "      <td>2016-05-01</td>\n",
       "      <td>2016-05-01 00:07:01</td>\n",
       "      <td>6</td>\n",
       "      <td>1.09</td>\n",
       "      <td>-73.993073</td>\n",
       "      <td>40.741573</td>\n",
       "      <td>1</td>\n",
       "      <td>N</td>\n",
       "      <td>-73.980995</td>\n",
       "      <td>40.744633</td>\n",
       "      <td>1</td>\n",
       "      <td>6.5</td>\n",
       "      <td>0.5</td>\n",
       "      <td>0.5</td>\n",
       "      <td>1.56</td>\n",
       "      <td>0.0</td>\n",
       "      <td>0.3</td>\n",
       "      <td>9.36</td>\n",
       "    </tr>\n",
       "    <tr>\n",
       "      <th>3</th>\n",
       "      <td>2</td>\n",
       "      <td>2016-05-01</td>\n",
       "      <td>2016-05-01 00:19:47</td>\n",
       "      <td>1</td>\n",
       "      <td>4.21</td>\n",
       "      <td>-73.991943</td>\n",
       "      <td>40.684601</td>\n",
       "      <td>1</td>\n",
       "      <td>N</td>\n",
       "      <td>-74.002258</td>\n",
       "      <td>40.733002</td>\n",
       "      <td>1</td>\n",
       "      <td>17.0</td>\n",
       "      <td>0.5</td>\n",
       "      <td>0.5</td>\n",
       "      <td>3.66</td>\n",
       "      <td>0.0</td>\n",
       "      <td>0.3</td>\n",
       "      <td>21.96</td>\n",
       "    </tr>\n",
       "    <tr>\n",
       "      <th>4</th>\n",
       "      <td>2</td>\n",
       "      <td>2016-05-01</td>\n",
       "      <td>2016-05-01 00:06:39</td>\n",
       "      <td>1</td>\n",
       "      <td>0.56</td>\n",
       "      <td>-74.005280</td>\n",
       "      <td>40.740192</td>\n",
       "      <td>1</td>\n",
       "      <td>N</td>\n",
       "      <td>-73.997498</td>\n",
       "      <td>40.737564</td>\n",
       "      <td>1</td>\n",
       "      <td>6.0</td>\n",
       "      <td>0.5</td>\n",
       "      <td>0.5</td>\n",
       "      <td>1.46</td>\n",
       "      <td>0.0</td>\n",
       "      <td>0.3</td>\n",
       "      <td>8.76</td>\n",
       "    </tr>\n",
       "  </tbody>\n",
       "</table>\n",
       "</div>"
      ],
      "text/plain": [
       "   VendorID tpep_pickup_datetime tpep_dropoff_datetime  passenger_count  \\\n",
       "0         1           2016-05-01   2016-05-01 00:17:31                1   \n",
       "1         2           2016-05-01   2016-05-01 00:07:31                1   \n",
       "2         2           2016-05-01   2016-05-01 00:07:01                6   \n",
       "3         2           2016-05-01   2016-05-01 00:19:47                1   \n",
       "4         2           2016-05-01   2016-05-01 00:06:39                1   \n",
       "\n",
       "   trip_distance  pickup_longitude  pickup_latitude  RatecodeID  \\\n",
       "0           3.60        -73.985901        40.768040           1   \n",
       "1           1.68        -73.991577        40.744751           1   \n",
       "2           1.09        -73.993073        40.741573           1   \n",
       "3           4.21        -73.991943        40.684601           1   \n",
       "4           0.56        -74.005280        40.740192           1   \n",
       "\n",
       "  store_and_fwd_flag  dropoff_longitude  dropoff_latitude  payment_type  \\\n",
       "0                  N         -73.983986         40.730099             1   \n",
       "1                  N         -73.975700         40.765469             1   \n",
       "2                  N         -73.980995         40.744633             1   \n",
       "3                  N         -74.002258         40.733002             1   \n",
       "4                  N         -73.997498         40.737564             1   \n",
       "\n",
       "   fare_amount  extra  mta_tax  tip_amount  tolls_amount  \\\n",
       "0         15.0    0.5      0.5        1.50           0.0   \n",
       "1          7.5    0.5      0.5        0.88           0.0   \n",
       "2          6.5    0.5      0.5        1.56           0.0   \n",
       "3         17.0    0.5      0.5        3.66           0.0   \n",
       "4          6.0    0.5      0.5        1.46           0.0   \n",
       "\n",
       "   improvement_surcharge  total_amount  \n",
       "0                    0.3         17.80  \n",
       "1                    0.3          9.68  \n",
       "2                    0.3          9.36  \n",
       "3                    0.3         21.96  \n",
       "4                    0.3          8.76  "
      ]
     },
     "execution_count": 8,
     "metadata": {},
     "output_type": "execute_result"
    }
   ],
   "source": [
    "d_2016_05.head()"
   ]
  },
  {
   "cell_type": "code",
   "execution_count": 9,
   "metadata": {
    "ExecuteTime": {
     "end_time": "2020-06-29T17:21:24.521409Z",
     "start_time": "2020-06-29T17:21:24.325931Z"
    },
    "deletable": false,
    "editable": false,
    "run_control": {
     "frozen": true
    }
   },
   "outputs": [
    {
     "name": "stdout",
     "output_type": "stream",
     "text": [
      "<class 'pandas.core.frame.DataFrame'>\n",
      "RangeIndex: 11836853 entries, 0 to 11836852\n",
      "Data columns (total 19 columns):\n",
      " #   Column                 Dtype         \n",
      "---  ------                 -----         \n",
      " 0   VendorID               int64         \n",
      " 1   tpep_pickup_datetime   datetime64[ns]\n",
      " 2   tpep_dropoff_datetime  datetime64[ns]\n",
      " 3   passenger_count        int64         \n",
      " 4   trip_distance          float64       \n",
      " 5   pickup_longitude       float64       \n",
      " 6   pickup_latitude        float64       \n",
      " 7   RatecodeID             int64         \n",
      " 8   store_and_fwd_flag     object        \n",
      " 9   dropoff_longitude      float64       \n",
      " 10  dropoff_latitude       float64       \n",
      " 11  payment_type           int64         \n",
      " 12  fare_amount            float64       \n",
      " 13  extra                  float64       \n",
      " 14  mta_tax                float64       \n",
      " 15  tip_amount             float64       \n",
      " 16  tolls_amount           float64       \n",
      " 17  improvement_surcharge  float64       \n",
      " 18  total_amount           float64       \n",
      "dtypes: datetime64[ns](2), float64(12), int64(4), object(1)\n",
      "memory usage: 1.7+ GB\n"
     ]
    }
   ],
   "source": [
    "d_2016_05.info()"
   ]
  },
  {
   "cell_type": "code",
   "execution_count": 10,
   "metadata": {
    "ExecuteTime": {
     "end_time": "2020-06-29T17:21:29.566338Z",
     "start_time": "2020-06-29T17:21:24.523403Z"
    },
    "deletable": false,
    "editable": false,
    "run_control": {
     "frozen": true
    }
   },
   "outputs": [
    {
     "data": {
      "text/html": [
       "<div>\n",
       "<style scoped>\n",
       "    .dataframe tbody tr th:only-of-type {\n",
       "        vertical-align: middle;\n",
       "    }\n",
       "\n",
       "    .dataframe tbody tr th {\n",
       "        vertical-align: top;\n",
       "    }\n",
       "\n",
       "    .dataframe thead th {\n",
       "        text-align: right;\n",
       "    }\n",
       "</style>\n",
       "<table border=\"1\" class=\"dataframe\">\n",
       "  <thead>\n",
       "    <tr style=\"text-align: right;\">\n",
       "      <th></th>\n",
       "      <th>VendorID</th>\n",
       "      <th>passenger_count</th>\n",
       "      <th>trip_distance</th>\n",
       "      <th>pickup_longitude</th>\n",
       "      <th>pickup_latitude</th>\n",
       "      <th>RatecodeID</th>\n",
       "      <th>dropoff_longitude</th>\n",
       "      <th>dropoff_latitude</th>\n",
       "      <th>payment_type</th>\n",
       "      <th>fare_amount</th>\n",
       "      <th>extra</th>\n",
       "      <th>mta_tax</th>\n",
       "      <th>tip_amount</th>\n",
       "      <th>tolls_amount</th>\n",
       "      <th>improvement_surcharge</th>\n",
       "      <th>total_amount</th>\n",
       "    </tr>\n",
       "  </thead>\n",
       "  <tbody>\n",
       "    <tr>\n",
       "      <th>count</th>\n",
       "      <td>1.183685e+07</td>\n",
       "      <td>1.183685e+07</td>\n",
       "      <td>1.183685e+07</td>\n",
       "      <td>1.183685e+07</td>\n",
       "      <td>1.183685e+07</td>\n",
       "      <td>1.183685e+07</td>\n",
       "      <td>1.183685e+07</td>\n",
       "      <td>1.183685e+07</td>\n",
       "      <td>1.183685e+07</td>\n",
       "      <td>1.183685e+07</td>\n",
       "      <td>1.183685e+07</td>\n",
       "      <td>1.183685e+07</td>\n",
       "      <td>1.183685e+07</td>\n",
       "      <td>1.183685e+07</td>\n",
       "      <td>1.183685e+07</td>\n",
       "      <td>1.183685e+07</td>\n",
       "    </tr>\n",
       "    <tr>\n",
       "      <th>mean</th>\n",
       "      <td>1.529075e+00</td>\n",
       "      <td>1.662265e+00</td>\n",
       "      <td>6.110069e+00</td>\n",
       "      <td>-7.304978e+01</td>\n",
       "      <td>4.024234e+01</td>\n",
       "      <td>1.045014e+00</td>\n",
       "      <td>-7.311869e+01</td>\n",
       "      <td>4.028127e+01</td>\n",
       "      <td>1.349840e+00</td>\n",
       "      <td>1.334066e+01</td>\n",
       "      <td>3.291893e-01</td>\n",
       "      <td>4.972577e-01</td>\n",
       "      <td>1.831982e+00</td>\n",
       "      <td>3.422044e-01</td>\n",
       "      <td>2.996838e-01</td>\n",
       "      <td>1.664095e+01</td>\n",
       "    </tr>\n",
       "    <tr>\n",
       "      <th>std</th>\n",
       "      <td>4.991539e-01</td>\n",
       "      <td>1.304418e+00</td>\n",
       "      <td>5.155162e+03</td>\n",
       "      <td>8.212003e+00</td>\n",
       "      <td>4.523904e+00</td>\n",
       "      <td>6.203209e-01</td>\n",
       "      <td>7.902544e+00</td>\n",
       "      <td>4.353644e+00</td>\n",
       "      <td>4.942504e-01</td>\n",
       "      <td>1.188799e+01</td>\n",
       "      <td>4.585669e-01</td>\n",
       "      <td>4.473578e-02</td>\n",
       "      <td>2.665043e+00</td>\n",
       "      <td>1.760303e+00</td>\n",
       "      <td>1.300760e-02</td>\n",
       "      <td>1.450379e+01</td>\n",
       "    </tr>\n",
       "    <tr>\n",
       "      <th>min</th>\n",
       "      <td>1.000000e+00</td>\n",
       "      <td>0.000000e+00</td>\n",
       "      <td>0.000000e+00</td>\n",
       "      <td>-1.650819e+02</td>\n",
       "      <td>-4.456935e+01</td>\n",
       "      <td>1.000000e+00</td>\n",
       "      <td>-1.295732e+02</td>\n",
       "      <td>0.000000e+00</td>\n",
       "      <td>1.000000e+00</td>\n",
       "      <td>-4.100000e+02</td>\n",
       "      <td>-3.900000e+01</td>\n",
       "      <td>-2.700000e+00</td>\n",
       "      <td>-8.000000e+01</td>\n",
       "      <td>-1.500000e+01</td>\n",
       "      <td>-3.000000e-01</td>\n",
       "      <td>-4.103000e+02</td>\n",
       "    </tr>\n",
       "    <tr>\n",
       "      <th>25%</th>\n",
       "      <td>1.000000e+00</td>\n",
       "      <td>1.000000e+00</td>\n",
       "      <td>1.000000e+00</td>\n",
       "      <td>-7.399179e+01</td>\n",
       "      <td>4.073611e+01</td>\n",
       "      <td>1.000000e+00</td>\n",
       "      <td>-7.399116e+01</td>\n",
       "      <td>4.073457e+01</td>\n",
       "      <td>1.000000e+00</td>\n",
       "      <td>6.500000e+00</td>\n",
       "      <td>0.000000e+00</td>\n",
       "      <td>5.000000e-01</td>\n",
       "      <td>0.000000e+00</td>\n",
       "      <td>0.000000e+00</td>\n",
       "      <td>3.000000e-01</td>\n",
       "      <td>8.760000e+00</td>\n",
       "    </tr>\n",
       "    <tr>\n",
       "      <th>50%</th>\n",
       "      <td>2.000000e+00</td>\n",
       "      <td>1.000000e+00</td>\n",
       "      <td>1.720000e+00</td>\n",
       "      <td>-7.398136e+01</td>\n",
       "      <td>4.075375e+01</td>\n",
       "      <td>1.000000e+00</td>\n",
       "      <td>-7.397922e+01</td>\n",
       "      <td>4.075439e+01</td>\n",
       "      <td>1.000000e+00</td>\n",
       "      <td>9.500000e+00</td>\n",
       "      <td>0.000000e+00</td>\n",
       "      <td>5.000000e-01</td>\n",
       "      <td>1.260000e+00</td>\n",
       "      <td>0.000000e+00</td>\n",
       "      <td>3.000000e-01</td>\n",
       "      <td>1.230000e+01</td>\n",
       "    </tr>\n",
       "    <tr>\n",
       "      <th>75%</th>\n",
       "      <td>2.000000e+00</td>\n",
       "      <td>2.000000e+00</td>\n",
       "      <td>3.270000e+00</td>\n",
       "      <td>-7.396588e+01</td>\n",
       "      <td>4.076862e+01</td>\n",
       "      <td>1.000000e+00</td>\n",
       "      <td>-7.396164e+01</td>\n",
       "      <td>4.077012e+01</td>\n",
       "      <td>2.000000e+00</td>\n",
       "      <td>1.500000e+01</td>\n",
       "      <td>5.000000e-01</td>\n",
       "      <td>5.000000e-01</td>\n",
       "      <td>2.450000e+00</td>\n",
       "      <td>0.000000e+00</td>\n",
       "      <td>3.000000e-01</td>\n",
       "      <td>1.836000e+01</td>\n",
       "    </tr>\n",
       "    <tr>\n",
       "      <th>max</th>\n",
       "      <td>2.000000e+00</td>\n",
       "      <td>9.000000e+00</td>\n",
       "      <td>1.200000e+07</td>\n",
       "      <td>1.184089e+02</td>\n",
       "      <td>5.366724e+01</td>\n",
       "      <td>9.900000e+01</td>\n",
       "      <td>0.000000e+00</td>\n",
       "      <td>7.012994e+01</td>\n",
       "      <td>5.000000e+00</td>\n",
       "      <td>8.007000e+03</td>\n",
       "      <td>7.900000e+01</td>\n",
       "      <td>4.030000e+01</td>\n",
       "      <td>7.500000e+02</td>\n",
       "      <td>1.120680e+03</td>\n",
       "      <td>3.100000e+00</td>\n",
       "      <td>8.007800e+03</td>\n",
       "    </tr>\n",
       "  </tbody>\n",
       "</table>\n",
       "</div>"
      ],
      "text/plain": [
       "           VendorID  passenger_count  trip_distance  pickup_longitude  \\\n",
       "count  1.183685e+07     1.183685e+07   1.183685e+07      1.183685e+07   \n",
       "mean   1.529075e+00     1.662265e+00   6.110069e+00     -7.304978e+01   \n",
       "std    4.991539e-01     1.304418e+00   5.155162e+03      8.212003e+00   \n",
       "min    1.000000e+00     0.000000e+00   0.000000e+00     -1.650819e+02   \n",
       "25%    1.000000e+00     1.000000e+00   1.000000e+00     -7.399179e+01   \n",
       "50%    2.000000e+00     1.000000e+00   1.720000e+00     -7.398136e+01   \n",
       "75%    2.000000e+00     2.000000e+00   3.270000e+00     -7.396588e+01   \n",
       "max    2.000000e+00     9.000000e+00   1.200000e+07      1.184089e+02   \n",
       "\n",
       "       pickup_latitude    RatecodeID  dropoff_longitude  dropoff_latitude  \\\n",
       "count     1.183685e+07  1.183685e+07       1.183685e+07      1.183685e+07   \n",
       "mean      4.024234e+01  1.045014e+00      -7.311869e+01      4.028127e+01   \n",
       "std       4.523904e+00  6.203209e-01       7.902544e+00      4.353644e+00   \n",
       "min      -4.456935e+01  1.000000e+00      -1.295732e+02      0.000000e+00   \n",
       "25%       4.073611e+01  1.000000e+00      -7.399116e+01      4.073457e+01   \n",
       "50%       4.075375e+01  1.000000e+00      -7.397922e+01      4.075439e+01   \n",
       "75%       4.076862e+01  1.000000e+00      -7.396164e+01      4.077012e+01   \n",
       "max       5.366724e+01  9.900000e+01       0.000000e+00      7.012994e+01   \n",
       "\n",
       "       payment_type   fare_amount         extra       mta_tax    tip_amount  \\\n",
       "count  1.183685e+07  1.183685e+07  1.183685e+07  1.183685e+07  1.183685e+07   \n",
       "mean   1.349840e+00  1.334066e+01  3.291893e-01  4.972577e-01  1.831982e+00   \n",
       "std    4.942504e-01  1.188799e+01  4.585669e-01  4.473578e-02  2.665043e+00   \n",
       "min    1.000000e+00 -4.100000e+02 -3.900000e+01 -2.700000e+00 -8.000000e+01   \n",
       "25%    1.000000e+00  6.500000e+00  0.000000e+00  5.000000e-01  0.000000e+00   \n",
       "50%    1.000000e+00  9.500000e+00  0.000000e+00  5.000000e-01  1.260000e+00   \n",
       "75%    2.000000e+00  1.500000e+01  5.000000e-01  5.000000e-01  2.450000e+00   \n",
       "max    5.000000e+00  8.007000e+03  7.900000e+01  4.030000e+01  7.500000e+02   \n",
       "\n",
       "       tolls_amount  improvement_surcharge  total_amount  \n",
       "count  1.183685e+07           1.183685e+07  1.183685e+07  \n",
       "mean   3.422044e-01           2.996838e-01  1.664095e+01  \n",
       "std    1.760303e+00           1.300760e-02  1.450379e+01  \n",
       "min   -1.500000e+01          -3.000000e-01 -4.103000e+02  \n",
       "25%    0.000000e+00           3.000000e-01  8.760000e+00  \n",
       "50%    0.000000e+00           3.000000e-01  1.230000e+01  \n",
       "75%    0.000000e+00           3.000000e-01  1.836000e+01  \n",
       "max    1.120680e+03           3.100000e+00  8.007800e+03  "
      ]
     },
     "execution_count": 10,
     "metadata": {},
     "output_type": "execute_result"
    }
   ],
   "source": [
    "d_2016_05.describe()"
   ]
  },
  {
   "cell_type": "code",
   "execution_count": 11,
   "metadata": {
    "ExecuteTime": {
     "end_time": "2020-06-29T17:21:30.250681Z",
     "start_time": "2020-06-29T17:21:29.567335Z"
    },
    "deletable": false,
    "editable": false,
    "run_control": {
     "frozen": true
    }
   },
   "outputs": [
    {
     "data": {
      "text/plain": [
       "N    11773155\n",
       "Y       63698\n",
       "Name: store_and_fwd_flag, dtype: int64"
      ]
     },
     "execution_count": 11,
     "metadata": {},
     "output_type": "execute_result"
    }
   ],
   "source": [
    "d_2016_05.store_and_fwd_flag.value_counts()"
   ]
  },
  {
   "cell_type": "code",
   "execution_count": 12,
   "metadata": {
    "ExecuteTime": {
     "end_time": "2020-06-29T17:21:30.975591Z",
     "start_time": "2020-06-29T17:21:30.251679Z"
    },
    "deletable": false,
    "editable": false,
    "run_control": {
     "frozen": true
    }
   },
   "outputs": [
    {
     "data": {
      "text/plain": [
       "VendorID                 False\n",
       "tpep_pickup_datetime     False\n",
       "tpep_dropoff_datetime    False\n",
       "passenger_count          False\n",
       "trip_distance            False\n",
       "pickup_longitude         False\n",
       "pickup_latitude          False\n",
       "RatecodeID               False\n",
       "store_and_fwd_flag       False\n",
       "dropoff_longitude        False\n",
       "dropoff_latitude         False\n",
       "payment_type             False\n",
       "fare_amount              False\n",
       "extra                    False\n",
       "mta_tax                  False\n",
       "tip_amount               False\n",
       "tolls_amount             False\n",
       "improvement_surcharge    False\n",
       "total_amount             False\n",
       "dtype: bool"
      ]
     },
     "execution_count": 12,
     "metadata": {},
     "output_type": "execute_result"
    }
   ],
   "source": [
    "d_2016_05.isna().any()"
   ]
  },
  {
   "cell_type": "markdown",
   "metadata": {},
   "source": [
    "## Фильтрация"
   ]
  },
  {
   "cell_type": "markdown",
   "metadata": {},
   "source": [
    "Видим, что есть отрицательные значения для некоторых долларовых столбцов (строка min). Не очень понятно, нормально это или нет. Избавимся от записей с числом пассажиров, длительностью поездки и расстоянием по счетчику, равными 0."
   ]
  },
  {
   "cell_type": "code",
   "execution_count": 13,
   "metadata": {
    "ExecuteTime": {
     "end_time": "2020-06-29T17:21:30.981576Z",
     "start_time": "2020-06-29T17:21:30.976588Z"
    },
    "deletable": false,
    "editable": false,
    "run_control": {
     "frozen": true
    }
   },
   "outputs": [
    {
     "data": {
      "text/plain": [
       "(11836853, 19)"
      ]
     },
     "execution_count": 13,
     "metadata": {},
     "output_type": "execute_result"
    }
   ],
   "source": [
    "d_2016_05.shape"
   ]
  },
  {
   "cell_type": "code",
   "execution_count": 14,
   "metadata": {
    "ExecuteTime": {
     "end_time": "2020-06-29T17:21:31.236555Z",
     "start_time": "2020-06-29T17:21:30.984078Z"
    },
    "deletable": false,
    "editable": false,
    "run_control": {
     "frozen": true
    }
   },
   "outputs": [],
   "source": [
    "duration = d_2016_05.tpep_dropoff_datetime - d_2016_05.tpep_pickup_datetime"
   ]
  },
  {
   "cell_type": "code",
   "execution_count": 15,
   "metadata": {
    "ExecuteTime": {
     "end_time": "2020-06-29T17:21:31.313315Z",
     "start_time": "2020-06-29T17:21:31.238439Z"
    },
    "deletable": false,
    "editable": false,
    "run_control": {
     "frozen": true
    }
   },
   "outputs": [
    {
     "name": "stdout",
     "output_type": "stream",
     "text": [
      "Число поездок с нулевой длительностью:  12268\n",
      "Число поездок с отрицательной длительностью:  59\n"
     ]
    }
   ],
   "source": [
    "print(\"Число поездок с нулевой длительностью: \", (duration == datetime.timedelta(seconds=0)).sum())\n",
    "print(\"Число поездок с отрицательной длительностью: \", (duration < datetime.timedelta(seconds=0)).sum())"
   ]
  },
  {
   "cell_type": "code",
   "execution_count": 16,
   "metadata": {
    "ExecuteTime": {
     "end_time": "2020-06-29T17:21:32.457962Z",
     "start_time": "2020-06-29T17:21:31.314313Z"
    },
    "deletable": false,
    "editable": false,
    "run_control": {
     "frozen": true
    }
   },
   "outputs": [
    {
     "data": {
      "text/plain": [
       "(11824526, 19)"
      ]
     },
     "execution_count": 16,
     "metadata": {},
     "output_type": "execute_result"
    }
   ],
   "source": [
    "d_2016_05 = d_2016_05[duration > datetime.timedelta(seconds=0)]\n",
    "d_2016_05.shape"
   ]
  },
  {
   "cell_type": "code",
   "execution_count": 17,
   "metadata": {
    "ExecuteTime": {
     "end_time": "2020-06-29T17:21:32.489391Z",
     "start_time": "2020-06-29T17:21:32.458960Z"
    },
    "deletable": false,
    "editable": false,
    "run_control": {
     "frozen": true
    }
   },
   "outputs": [
    {
     "name": "stdout",
     "output_type": "stream",
     "text": [
      "Число поездок без пассажиров:  522\n"
     ]
    }
   ],
   "source": [
    "print(\"Число поездок без пассажиров: \", (d_2016_05.passenger_count==0).sum())"
   ]
  },
  {
   "cell_type": "code",
   "execution_count": 18,
   "metadata": {
    "ExecuteTime": {
     "end_time": "2020-06-29T17:21:33.744729Z",
     "start_time": "2020-06-29T17:21:32.490389Z"
    },
    "deletable": false,
    "editable": false,
    "run_control": {
     "frozen": true
    }
   },
   "outputs": [
    {
     "data": {
      "text/plain": [
       "(11824004, 19)"
      ]
     },
     "execution_count": 18,
     "metadata": {},
     "output_type": "execute_result"
    }
   ],
   "source": [
    "d_2016_05 = d_2016_05[d_2016_05.passenger_count!=0]\n",
    "d_2016_05.shape"
   ]
  },
  {
   "cell_type": "code",
   "execution_count": 19,
   "metadata": {
    "ExecuteTime": {
     "end_time": "2020-06-29T17:21:33.773659Z",
     "start_time": "2020-06-29T17:21:33.745725Z"
    },
    "deletable": false,
    "editable": false,
    "run_control": {
     "frozen": true
    }
   },
   "outputs": [
    {
     "name": "stdout",
     "output_type": "stream",
     "text": [
      "Число поездок с нулевым расстоянием:  60638\n"
     ]
    }
   ],
   "source": [
    "print(\"Число поездок с нулевым расстоянием: \", (d_2016_05.trip_distance==0).sum())"
   ]
  },
  {
   "cell_type": "code",
   "execution_count": 20,
   "metadata": {
    "ExecuteTime": {
     "end_time": "2020-06-29T17:21:35.041330Z",
     "start_time": "2020-06-29T17:21:33.774657Z"
    },
    "deletable": false,
    "editable": false,
    "run_control": {
     "frozen": true
    }
   },
   "outputs": [
    {
     "data": {
      "text/plain": [
       "(11763366, 19)"
      ]
     },
     "execution_count": 20,
     "metadata": {},
     "output_type": "execute_result"
    }
   ],
   "source": [
    "d_2016_05 = d_2016_05[d_2016_05.trip_distance!=0]\n",
    "d_2016_05.shape"
   ]
  },
  {
   "cell_type": "markdown",
   "metadata": {},
   "source": [
    "Отбрасываем минуты и секунды"
   ]
  },
  {
   "cell_type": "code",
   "execution_count": 21,
   "metadata": {
    "ExecuteTime": {
     "end_time": "2020-06-29T17:21:35.351516Z",
     "start_time": "2020-06-29T17:21:35.042326Z"
    },
    "deletable": false,
    "editable": false,
    "run_control": {
     "frozen": true
    }
   },
   "outputs": [],
   "source": [
    "d_2016_05[\"tpep_pickup_datetime\"] = d_2016_05.tpep_pickup_datetime.dt.floor('H')"
   ]
  },
  {
   "cell_type": "markdown",
   "metadata": {},
   "source": [
    "Отбросим поездки, начавшиеся за пределами прямоугольника Нью-Йорка"
   ]
  },
  {
   "cell_type": "code",
   "execution_count": 22,
   "metadata": {
    "ExecuteTime": {
     "end_time": "2020-06-29T17:21:35.460731Z",
     "start_time": "2020-06-29T17:21:35.352513Z"
    },
    "deletable": false,
    "editable": false,
    "run_control": {
     "frozen": true
    }
   },
   "outputs": [
    {
     "name": "stdout",
     "output_type": "stream",
     "text": [
      "Число поездок, начавшихся за пределами прямоугольника Нью-Йорка: 136845\n"
     ]
    }
   ],
   "source": [
    "out_of_bound = ((d_2016_05.pickup_longitude < -74.25559) | (d_2016_05.pickup_longitude > -73.70001) | \n",
    " (d_2016_05.pickup_latitude < 40.49612) | (d_2016_05.pickup_latitude > 40.91553)).sum()\n",
    "print(\"Число поездок, начавшихся за пределами прямоугольника Нью-Йорка:\", out_of_bound)"
   ]
  },
  {
   "cell_type": "code",
   "execution_count": 23,
   "metadata": {
    "ExecuteTime": {
     "end_time": "2020-06-29T17:21:36.719422Z",
     "start_time": "2020-06-29T17:21:35.461728Z"
    },
    "deletable": false,
    "editable": false,
    "run_control": {
     "frozen": true
    }
   },
   "outputs": [],
   "source": [
    "inbound = ((d_2016_05.pickup_longitude >= -74.25559) & (d_2016_05.pickup_longitude <= -73.70001) & \n",
    " (d_2016_05.pickup_latitude >= 40.49612) & (d_2016_05.pickup_latitude <= 40.91553))\n",
    "d_2016_05 = d_2016_05[inbound]"
   ]
  },
  {
   "cell_type": "markdown",
   "metadata": {},
   "source": [
    "## Агрегация"
   ]
  },
  {
   "cell_type": "code",
   "execution_count": 24,
   "metadata": {
    "ExecuteTime": {
     "end_time": "2020-06-29T17:21:36.728580Z",
     "start_time": "2020-06-29T17:21:36.720420Z"
    },
    "deletable": false,
    "editable": false,
    "run_control": {
     "frozen": true
    }
   },
   "outputs": [],
   "source": [
    "regions = pd.read_csv('regions.csv', ';')"
   ]
  },
  {
   "cell_type": "markdown",
   "metadata": {},
   "source": [
    "Границы для binned_statistic_2d"
   ]
  },
  {
   "cell_type": "code",
   "execution_count": 25,
   "metadata": {
    "ExecuteTime": {
     "end_time": "2020-06-29T17:21:36.769441Z",
     "start_time": "2020-06-29T17:21:36.729548Z"
    },
    "deletable": false,
    "editable": false,
    "run_control": {
     "frozen": true
    }
   },
   "outputs": [],
   "source": [
    "x_edge = regions.west.unique()\n",
    "x_edge = np.append(x_edge, regions.east.max())\n",
    "y_edge = regions.south.unique()\n",
    "y_edge = np.append(y_edge, regions.north.max())"
   ]
  },
  {
   "cell_type": "markdown",
   "metadata": {
    "ExecuteTime": {
     "end_time": "2020-06-26T20:53:40.043337Z",
     "start_time": "2020-06-26T20:53:40.038349Z"
    }
   },
   "source": [
    "Границы прямоугольника Нью-Йорка"
   ]
  },
  {
   "cell_type": "code",
   "execution_count": 26,
   "metadata": {
    "ExecuteTime": {
     "end_time": "2020-06-29T17:21:36.777420Z",
     "start_time": "2020-06-29T17:21:36.770439Z"
    },
    "deletable": false,
    "editable": false,
    "run_control": {
     "frozen": true
    }
   },
   "outputs": [
    {
     "data": {
      "text/plain": [
       "(-74.25559, -73.70000999999999, 40.49612, 40.91553)"
      ]
     },
     "execution_count": 26,
     "metadata": {},
     "output_type": "execute_result"
    }
   ],
   "source": [
    "xmin = regions.west.min()\n",
    "xmax = regions.east.max()\n",
    "ymin = regions.south.min()\n",
    "ymax = regions.north.max()\n",
    "xmin, xmax, ymin, ymax"
   ]
  },
  {
   "cell_type": "code",
   "execution_count": 27,
   "metadata": {
    "ExecuteTime": {
     "end_time": "2020-06-29T17:21:38.953638Z",
     "start_time": "2020-06-29T17:21:36.778418Z"
    },
    "code_folding": [
     0
    ],
    "deletable": false,
    "editable": false,
    "run_control": {
     "frozen": true
    }
   },
   "outputs": [],
   "source": [
    "count_by_region = binned_statistic_2d(d_2016_05.pickup_longitude.values, d_2016_05.pickup_latitude.values,\n",
    "                   np.ones(d_2016_05.shape[0]), 'count', bins=[x_edge, y_edge]).statistic"
   ]
  },
  {
   "cell_type": "markdown",
   "metadata": {
    "ExecuteTime": {
     "end_time": "2020-06-26T20:55:13.452005Z",
     "start_time": "2020-06-26T20:55:13.446021Z"
    }
   },
   "source": [
    "Задав границы отрезка (xmin, xmax), число разбиений (bins), функция get_bin_ind возвращает в какое разбиение попадает x (x - DataFrame)"
   ]
  },
  {
   "cell_type": "code",
   "execution_count": 28,
   "metadata": {
    "ExecuteTime": {
     "end_time": "2020-06-29T17:21:38.958597Z",
     "start_time": "2020-06-29T17:21:38.954608Z"
    },
    "code_folding": [
     0
    ],
    "deletable": false,
    "editable": false
   },
   "outputs": [],
   "source": [
    "def get_bin_ind(x, xmin, xmax, bins):\n",
    "    return ((x - xmin) / ((xmax - xmin)/bins)).values.astype(int)"
   ]
  },
  {
   "cell_type": "markdown",
   "metadata": {},
   "source": [
    "Аналогично для двумерного разбиения"
   ]
  },
  {
   "cell_type": "code",
   "execution_count": 29,
   "metadata": {
    "ExecuteTime": {
     "end_time": "2020-06-29T17:21:38.966577Z",
     "start_time": "2020-06-29T17:21:38.962586Z"
    },
    "code_folding": [
     0
    ],
    "deletable": false,
    "editable": false
   },
   "outputs": [],
   "source": [
    "def get_bin(x, y, xmin, xmax, ymin, ymax, xbins, ybins):\n",
    "    return get_bin_ind(x, xmin, xmax, xbins)*xbins + get_bin_ind(y, ymin, ymax, ybins)"
   ]
  },
  {
   "cell_type": "markdown",
   "metadata": {},
   "source": [
    "Аналогичные функции, но x - одно число"
   ]
  },
  {
   "cell_type": "code",
   "execution_count": 30,
   "metadata": {
    "ExecuteTime": {
     "end_time": "2020-06-29T17:21:38.972561Z",
     "start_time": "2020-06-29T17:21:38.968570Z"
    },
    "code_folding": [
     0
    ],
    "deletable": false,
    "editable": false
   },
   "outputs": [],
   "source": [
    "def get_bin_ind_s(x, xmin, xmax, bins):\n",
    "    return int(((x - xmin) / ((xmax - xmin)/bins)))"
   ]
  },
  {
   "cell_type": "code",
   "execution_count": 31,
   "metadata": {
    "ExecuteTime": {
     "end_time": "2020-06-29T17:21:38.978545Z",
     "start_time": "2020-06-29T17:21:38.973557Z"
    },
    "code_folding": [
     0
    ],
    "deletable": false,
    "editable": false
   },
   "outputs": [],
   "source": [
    "def get_bin_s(x, y, xmin, xmax, ymin, ymax, xbins, ybins):\n",
    "    return get_bin_ind_s(x, xmin, xmax, xbins)*xbins + get_bin_ind_s(y, ymin, ymax, ybins)"
   ]
  },
  {
   "cell_type": "markdown",
   "metadata": {},
   "source": [
    "Получаем номера регионов для каждой поездки"
   ]
  },
  {
   "cell_type": "code",
   "execution_count": 32,
   "metadata": {
    "ExecuteTime": {
     "end_time": "2020-06-29T17:21:39.976200Z",
     "start_time": "2020-06-29T17:21:38.979541Z"
    },
    "deletable": false,
    "editable": false,
    "run_control": {
     "frozen": true
    }
   },
   "outputs": [],
   "source": [
    "region = get_bin(d_2016_05.pickup_longitude, d_2016_05.pickup_latitude, xmin, xmax, ymin, ymax, 50, 50) + 1"
   ]
  },
  {
   "cell_type": "code",
   "execution_count": 33,
   "metadata": {
    "ExecuteTime": {
     "end_time": "2020-06-29T17:21:39.998760Z",
     "start_time": "2020-06-29T17:21:39.977198Z"
    },
    "deletable": false,
    "editable": false,
    "run_control": {
     "frozen": true
    }
   },
   "outputs": [],
   "source": [
    "d_2016_05['region'] = region"
   ]
  },
  {
   "cell_type": "markdown",
   "metadata": {
    "ExecuteTime": {
     "end_time": "2020-06-26T20:59:02.704915Z",
     "start_time": "2020-06-26T20:59:02.700926Z"
    }
   },
   "source": [
    "Агрегируем по региону и по времени, получаем столбец с чилом поездок для каждой пары регион-время (с пропусками)"
   ]
  },
  {
   "cell_type": "code",
   "execution_count": 34,
   "metadata": {
    "ExecuteTime": {
     "end_time": "2020-06-29T17:21:42.527029Z",
     "start_time": "2020-06-29T17:21:39.999650Z"
    },
    "deletable": false,
    "editable": false,
    "run_control": {
     "frozen": true
    }
   },
   "outputs": [],
   "source": [
    "counts = d_2016_05.groupby(['region', 'tpep_pickup_datetime']).count()['VendorID']\n",
    "counts.name = 'count'"
   ]
  },
  {
   "cell_type": "code",
   "execution_count": 35,
   "metadata": {
    "ExecuteTime": {
     "end_time": "2020-06-29T17:21:42.534985Z",
     "start_time": "2020-06-29T17:21:42.528005Z"
    },
    "deletable": false,
    "editable": false,
    "run_control": {
     "frozen": true
    }
   },
   "outputs": [
    {
     "data": {
      "text/plain": [
       "region  tpep_pickup_datetime\n",
       "15      2016-05-20 13:00:00     1\n",
       "16      2016-05-23 08:00:00     1\n",
       "25      2016-05-04 13:00:00     1\n",
       "27      2016-05-30 03:00:00     1\n",
       "32      2016-05-01 17:00:00     1\n",
       "Name: count, dtype: int64"
      ]
     },
     "execution_count": 35,
     "metadata": {},
     "output_type": "execute_result"
    }
   ],
   "source": [
    "counts.head()"
   ]
  },
  {
   "cell_type": "markdown",
   "metadata": {
    "ExecuteTime": {
     "end_time": "2020-06-26T21:01:07.496313Z",
     "start_time": "2020-06-26T21:01:07.491326Z"
    }
   },
   "source": [
    "Приводим таблицу к виду index=время, columns=регион, values=число поездок для пары регион-время"
   ]
  },
  {
   "cell_type": "code",
   "execution_count": 36,
   "metadata": {
    "ExecuteTime": {
     "end_time": "2020-06-29T17:21:42.583881Z",
     "start_time": "2020-06-29T17:21:42.535983Z"
    },
    "deletable": false,
    "editable": false,
    "run_control": {
     "frozen": true
    }
   },
   "outputs": [],
   "source": [
    "counts_u = counts.unstack(level=0, fill_value=0)"
   ]
  },
  {
   "cell_type": "code",
   "execution_count": 37,
   "metadata": {
    "ExecuteTime": {
     "end_time": "2020-06-29T17:21:42.600222Z",
     "start_time": "2020-06-29T17:21:42.583881Z"
    },
    "deletable": false,
    "editable": false,
    "run_control": {
     "frozen": true
    }
   },
   "outputs": [
    {
     "data": {
      "text/html": [
       "<div>\n",
       "<style scoped>\n",
       "    .dataframe tbody tr th:only-of-type {\n",
       "        vertical-align: middle;\n",
       "    }\n",
       "\n",
       "    .dataframe tbody tr th {\n",
       "        vertical-align: top;\n",
       "    }\n",
       "\n",
       "    .dataframe thead th {\n",
       "        text-align: right;\n",
       "    }\n",
       "</style>\n",
       "<table border=\"1\" class=\"dataframe\">\n",
       "  <thead>\n",
       "    <tr style=\"text-align: right;\">\n",
       "      <th>region</th>\n",
       "      <th>15</th>\n",
       "      <th>16</th>\n",
       "      <th>25</th>\n",
       "      <th>27</th>\n",
       "      <th>32</th>\n",
       "      <th>45</th>\n",
       "      <th>49</th>\n",
       "      <th>61</th>\n",
       "      <th>77</th>\n",
       "      <th>80</th>\n",
       "      <th>...</th>\n",
       "      <th>2476</th>\n",
       "      <th>2478</th>\n",
       "      <th>2479</th>\n",
       "      <th>2481</th>\n",
       "      <th>2482</th>\n",
       "      <th>2483</th>\n",
       "      <th>2484</th>\n",
       "      <th>2485</th>\n",
       "      <th>2486</th>\n",
       "      <th>2487</th>\n",
       "    </tr>\n",
       "    <tr>\n",
       "      <th>tpep_pickup_datetime</th>\n",
       "      <th></th>\n",
       "      <th></th>\n",
       "      <th></th>\n",
       "      <th></th>\n",
       "      <th></th>\n",
       "      <th></th>\n",
       "      <th></th>\n",
       "      <th></th>\n",
       "      <th></th>\n",
       "      <th></th>\n",
       "      <th></th>\n",
       "      <th></th>\n",
       "      <th></th>\n",
       "      <th></th>\n",
       "      <th></th>\n",
       "      <th></th>\n",
       "      <th></th>\n",
       "      <th></th>\n",
       "      <th></th>\n",
       "      <th></th>\n",
       "      <th></th>\n",
       "    </tr>\n",
       "  </thead>\n",
       "  <tbody>\n",
       "    <tr>\n",
       "      <th>2016-05-01 00:00:00</th>\n",
       "      <td>0</td>\n",
       "      <td>0</td>\n",
       "      <td>0</td>\n",
       "      <td>0</td>\n",
       "      <td>0</td>\n",
       "      <td>0</td>\n",
       "      <td>0</td>\n",
       "      <td>0</td>\n",
       "      <td>0</td>\n",
       "      <td>0</td>\n",
       "      <td>...</td>\n",
       "      <td>0</td>\n",
       "      <td>0</td>\n",
       "      <td>0</td>\n",
       "      <td>0</td>\n",
       "      <td>0</td>\n",
       "      <td>0</td>\n",
       "      <td>0</td>\n",
       "      <td>0</td>\n",
       "      <td>0</td>\n",
       "      <td>0</td>\n",
       "    </tr>\n",
       "    <tr>\n",
       "      <th>2016-05-01 01:00:00</th>\n",
       "      <td>0</td>\n",
       "      <td>0</td>\n",
       "      <td>0</td>\n",
       "      <td>0</td>\n",
       "      <td>0</td>\n",
       "      <td>0</td>\n",
       "      <td>0</td>\n",
       "      <td>0</td>\n",
       "      <td>0</td>\n",
       "      <td>0</td>\n",
       "      <td>...</td>\n",
       "      <td>0</td>\n",
       "      <td>0</td>\n",
       "      <td>0</td>\n",
       "      <td>0</td>\n",
       "      <td>0</td>\n",
       "      <td>0</td>\n",
       "      <td>0</td>\n",
       "      <td>0</td>\n",
       "      <td>0</td>\n",
       "      <td>0</td>\n",
       "    </tr>\n",
       "    <tr>\n",
       "      <th>2016-05-01 02:00:00</th>\n",
       "      <td>0</td>\n",
       "      <td>0</td>\n",
       "      <td>0</td>\n",
       "      <td>0</td>\n",
       "      <td>0</td>\n",
       "      <td>0</td>\n",
       "      <td>0</td>\n",
       "      <td>0</td>\n",
       "      <td>0</td>\n",
       "      <td>0</td>\n",
       "      <td>...</td>\n",
       "      <td>0</td>\n",
       "      <td>0</td>\n",
       "      <td>0</td>\n",
       "      <td>0</td>\n",
       "      <td>0</td>\n",
       "      <td>0</td>\n",
       "      <td>0</td>\n",
       "      <td>0</td>\n",
       "      <td>0</td>\n",
       "      <td>0</td>\n",
       "    </tr>\n",
       "    <tr>\n",
       "      <th>2016-05-01 03:00:00</th>\n",
       "      <td>0</td>\n",
       "      <td>0</td>\n",
       "      <td>0</td>\n",
       "      <td>0</td>\n",
       "      <td>0</td>\n",
       "      <td>0</td>\n",
       "      <td>0</td>\n",
       "      <td>0</td>\n",
       "      <td>0</td>\n",
       "      <td>0</td>\n",
       "      <td>...</td>\n",
       "      <td>0</td>\n",
       "      <td>0</td>\n",
       "      <td>0</td>\n",
       "      <td>0</td>\n",
       "      <td>0</td>\n",
       "      <td>0</td>\n",
       "      <td>0</td>\n",
       "      <td>0</td>\n",
       "      <td>0</td>\n",
       "      <td>0</td>\n",
       "    </tr>\n",
       "    <tr>\n",
       "      <th>2016-05-01 04:00:00</th>\n",
       "      <td>0</td>\n",
       "      <td>0</td>\n",
       "      <td>0</td>\n",
       "      <td>0</td>\n",
       "      <td>0</td>\n",
       "      <td>0</td>\n",
       "      <td>0</td>\n",
       "      <td>0</td>\n",
       "      <td>0</td>\n",
       "      <td>0</td>\n",
       "      <td>...</td>\n",
       "      <td>0</td>\n",
       "      <td>0</td>\n",
       "      <td>0</td>\n",
       "      <td>0</td>\n",
       "      <td>0</td>\n",
       "      <td>0</td>\n",
       "      <td>0</td>\n",
       "      <td>0</td>\n",
       "      <td>0</td>\n",
       "      <td>0</td>\n",
       "    </tr>\n",
       "  </tbody>\n",
       "</table>\n",
       "<p>5 rows × 1217 columns</p>\n",
       "</div>"
      ],
      "text/plain": [
       "region                15    16    25    27    32    45    49    61    77    \\\n",
       "tpep_pickup_datetime                                                         \n",
       "2016-05-01 00:00:00      0     0     0     0     0     0     0     0     0   \n",
       "2016-05-01 01:00:00      0     0     0     0     0     0     0     0     0   \n",
       "2016-05-01 02:00:00      0     0     0     0     0     0     0     0     0   \n",
       "2016-05-01 03:00:00      0     0     0     0     0     0     0     0     0   \n",
       "2016-05-01 04:00:00      0     0     0     0     0     0     0     0     0   \n",
       "\n",
       "region                80    ...  2476  2478  2479  2481  2482  2483  2484  \\\n",
       "tpep_pickup_datetime        ...                                             \n",
       "2016-05-01 00:00:00      0  ...     0     0     0     0     0     0     0   \n",
       "2016-05-01 01:00:00      0  ...     0     0     0     0     0     0     0   \n",
       "2016-05-01 02:00:00      0  ...     0     0     0     0     0     0     0   \n",
       "2016-05-01 03:00:00      0  ...     0     0     0     0     0     0     0   \n",
       "2016-05-01 04:00:00      0  ...     0     0     0     0     0     0     0   \n",
       "\n",
       "region                2485  2486  2487  \n",
       "tpep_pickup_datetime                    \n",
       "2016-05-01 00:00:00      0     0     0  \n",
       "2016-05-01 01:00:00      0     0     0  \n",
       "2016-05-01 02:00:00      0     0     0  \n",
       "2016-05-01 03:00:00      0     0     0  \n",
       "2016-05-01 04:00:00      0     0     0  \n",
       "\n",
       "[5 rows x 1217 columns]"
      ]
     },
     "execution_count": 37,
     "metadata": {},
     "output_type": "execute_result"
    }
   ],
   "source": [
    "counts_u.head()"
   ]
  },
  {
   "cell_type": "markdown",
   "metadata": {},
   "source": [
    "Видим, что регионы отображаются не все. Возможно то же самое со временем. Восполним недостающие столбцы/строки"
   ]
  },
  {
   "cell_type": "code",
   "execution_count": 38,
   "metadata": {
    "ExecuteTime": {
     "end_time": "2020-06-29T17:21:42.608201Z",
     "start_time": "2020-06-29T17:21:42.602217Z"
    },
    "deletable": false,
    "editable": false,
    "run_control": {
     "frozen": true
    }
   },
   "outputs": [],
   "source": [
    "new_index = pd.date_range(datetime.datetime(year=2016, month=5, day=1), datetime.datetime(year=2016, month=5, day=31, hour=23), freq='H')\n",
    "new_columns = range(1,2501)"
   ]
  },
  {
   "cell_type": "code",
   "execution_count": 39,
   "metadata": {
    "ExecuteTime": {
     "end_time": "2020-06-29T17:21:42.651088Z",
     "start_time": "2020-06-29T17:21:42.609199Z"
    },
    "deletable": false,
    "editable": false,
    "run_control": {
     "frozen": true
    }
   },
   "outputs": [],
   "source": [
    "counts_full = counts_u.reindex(index=new_index, columns=new_columns).fillna(0).astype(int)"
   ]
  },
  {
   "cell_type": "code",
   "execution_count": 40,
   "metadata": {
    "ExecuteTime": {
     "end_time": "2020-06-29T17:21:42.671035Z",
     "start_time": "2020-06-29T17:21:42.652084Z"
    },
    "deletable": false,
    "editable": false,
    "run_control": {
     "frozen": true
    }
   },
   "outputs": [
    {
     "data": {
      "text/html": [
       "<div>\n",
       "<style scoped>\n",
       "    .dataframe tbody tr th:only-of-type {\n",
       "        vertical-align: middle;\n",
       "    }\n",
       "\n",
       "    .dataframe tbody tr th {\n",
       "        vertical-align: top;\n",
       "    }\n",
       "\n",
       "    .dataframe thead th {\n",
       "        text-align: right;\n",
       "    }\n",
       "</style>\n",
       "<table border=\"1\" class=\"dataframe\">\n",
       "  <thead>\n",
       "    <tr style=\"text-align: right;\">\n",
       "      <th>region</th>\n",
       "      <th>1</th>\n",
       "      <th>2</th>\n",
       "      <th>3</th>\n",
       "      <th>4</th>\n",
       "      <th>5</th>\n",
       "      <th>6</th>\n",
       "      <th>7</th>\n",
       "      <th>8</th>\n",
       "      <th>9</th>\n",
       "      <th>10</th>\n",
       "      <th>...</th>\n",
       "      <th>2491</th>\n",
       "      <th>2492</th>\n",
       "      <th>2493</th>\n",
       "      <th>2494</th>\n",
       "      <th>2495</th>\n",
       "      <th>2496</th>\n",
       "      <th>2497</th>\n",
       "      <th>2498</th>\n",
       "      <th>2499</th>\n",
       "      <th>2500</th>\n",
       "    </tr>\n",
       "  </thead>\n",
       "  <tbody>\n",
       "    <tr>\n",
       "      <th>2016-05-01 00:00:00</th>\n",
       "      <td>0</td>\n",
       "      <td>0</td>\n",
       "      <td>0</td>\n",
       "      <td>0</td>\n",
       "      <td>0</td>\n",
       "      <td>0</td>\n",
       "      <td>0</td>\n",
       "      <td>0</td>\n",
       "      <td>0</td>\n",
       "      <td>0</td>\n",
       "      <td>...</td>\n",
       "      <td>0</td>\n",
       "      <td>0</td>\n",
       "      <td>0</td>\n",
       "      <td>0</td>\n",
       "      <td>0</td>\n",
       "      <td>0</td>\n",
       "      <td>0</td>\n",
       "      <td>0</td>\n",
       "      <td>0</td>\n",
       "      <td>0</td>\n",
       "    </tr>\n",
       "    <tr>\n",
       "      <th>2016-05-01 01:00:00</th>\n",
       "      <td>0</td>\n",
       "      <td>0</td>\n",
       "      <td>0</td>\n",
       "      <td>0</td>\n",
       "      <td>0</td>\n",
       "      <td>0</td>\n",
       "      <td>0</td>\n",
       "      <td>0</td>\n",
       "      <td>0</td>\n",
       "      <td>0</td>\n",
       "      <td>...</td>\n",
       "      <td>0</td>\n",
       "      <td>0</td>\n",
       "      <td>0</td>\n",
       "      <td>0</td>\n",
       "      <td>0</td>\n",
       "      <td>0</td>\n",
       "      <td>0</td>\n",
       "      <td>0</td>\n",
       "      <td>0</td>\n",
       "      <td>0</td>\n",
       "    </tr>\n",
       "    <tr>\n",
       "      <th>2016-05-01 02:00:00</th>\n",
       "      <td>0</td>\n",
       "      <td>0</td>\n",
       "      <td>0</td>\n",
       "      <td>0</td>\n",
       "      <td>0</td>\n",
       "      <td>0</td>\n",
       "      <td>0</td>\n",
       "      <td>0</td>\n",
       "      <td>0</td>\n",
       "      <td>0</td>\n",
       "      <td>...</td>\n",
       "      <td>0</td>\n",
       "      <td>0</td>\n",
       "      <td>0</td>\n",
       "      <td>0</td>\n",
       "      <td>0</td>\n",
       "      <td>0</td>\n",
       "      <td>0</td>\n",
       "      <td>0</td>\n",
       "      <td>0</td>\n",
       "      <td>0</td>\n",
       "    </tr>\n",
       "    <tr>\n",
       "      <th>2016-05-01 03:00:00</th>\n",
       "      <td>0</td>\n",
       "      <td>0</td>\n",
       "      <td>0</td>\n",
       "      <td>0</td>\n",
       "      <td>0</td>\n",
       "      <td>0</td>\n",
       "      <td>0</td>\n",
       "      <td>0</td>\n",
       "      <td>0</td>\n",
       "      <td>0</td>\n",
       "      <td>...</td>\n",
       "      <td>0</td>\n",
       "      <td>0</td>\n",
       "      <td>0</td>\n",
       "      <td>0</td>\n",
       "      <td>0</td>\n",
       "      <td>0</td>\n",
       "      <td>0</td>\n",
       "      <td>0</td>\n",
       "      <td>0</td>\n",
       "      <td>0</td>\n",
       "    </tr>\n",
       "    <tr>\n",
       "      <th>2016-05-01 04:00:00</th>\n",
       "      <td>0</td>\n",
       "      <td>0</td>\n",
       "      <td>0</td>\n",
       "      <td>0</td>\n",
       "      <td>0</td>\n",
       "      <td>0</td>\n",
       "      <td>0</td>\n",
       "      <td>0</td>\n",
       "      <td>0</td>\n",
       "      <td>0</td>\n",
       "      <td>...</td>\n",
       "      <td>0</td>\n",
       "      <td>0</td>\n",
       "      <td>0</td>\n",
       "      <td>0</td>\n",
       "      <td>0</td>\n",
       "      <td>0</td>\n",
       "      <td>0</td>\n",
       "      <td>0</td>\n",
       "      <td>0</td>\n",
       "      <td>0</td>\n",
       "    </tr>\n",
       "  </tbody>\n",
       "</table>\n",
       "<p>5 rows × 2500 columns</p>\n",
       "</div>"
      ],
      "text/plain": [
       "region               1     2     3     4     5     6     7     8     9     \\\n",
       "2016-05-01 00:00:00     0     0     0     0     0     0     0     0     0   \n",
       "2016-05-01 01:00:00     0     0     0     0     0     0     0     0     0   \n",
       "2016-05-01 02:00:00     0     0     0     0     0     0     0     0     0   \n",
       "2016-05-01 03:00:00     0     0     0     0     0     0     0     0     0   \n",
       "2016-05-01 04:00:00     0     0     0     0     0     0     0     0     0   \n",
       "\n",
       "region               10    ...  2491  2492  2493  2494  2495  2496  2497  \\\n",
       "2016-05-01 00:00:00     0  ...     0     0     0     0     0     0     0   \n",
       "2016-05-01 01:00:00     0  ...     0     0     0     0     0     0     0   \n",
       "2016-05-01 02:00:00     0  ...     0     0     0     0     0     0     0   \n",
       "2016-05-01 03:00:00     0  ...     0     0     0     0     0     0     0   \n",
       "2016-05-01 04:00:00     0  ...     0     0     0     0     0     0     0   \n",
       "\n",
       "region               2498  2499  2500  \n",
       "2016-05-01 00:00:00     0     0     0  \n",
       "2016-05-01 01:00:00     0     0     0  \n",
       "2016-05-01 02:00:00     0     0     0  \n",
       "2016-05-01 03:00:00     0     0     0  \n",
       "2016-05-01 04:00:00     0     0     0  \n",
       "\n",
       "[5 rows x 2500 columns]"
      ]
     },
     "execution_count": 40,
     "metadata": {},
     "output_type": "execute_result"
    }
   ],
   "source": [
    "counts_full.head()"
   ]
  },
  {
   "cell_type": "markdown",
   "metadata": {},
   "source": [
    "## Такси Empire State Building"
   ]
  },
  {
   "cell_type": "markdown",
   "metadata": {},
   "source": [
    "Получим номер региона Empire State Building\n",
    "\n",
    "Координаты Empire State Building: (-73.985352, 40.748418)"
   ]
  },
  {
   "cell_type": "code",
   "execution_count": 41,
   "metadata": {
    "ExecuteTime": {
     "end_time": "2020-06-29T17:21:42.679039Z",
     "start_time": "2020-06-29T17:21:42.673029Z"
    },
    "deletable": false,
    "editable": false,
    "run_control": {
     "frozen": true
    }
   },
   "outputs": [
    {
     "data": {
      "text/plain": [
       "1231"
      ]
     },
     "execution_count": 41,
     "metadata": {},
     "output_type": "execute_result"
    }
   ],
   "source": [
    "esb_region = get_bin_s(-73.985352, 40.748418, xmin, xmax, ymin, ymax, 50, 50) + 1\n",
    "esb_region"
   ]
  },
  {
   "cell_type": "code",
   "execution_count": 42,
   "metadata": {
    "ExecuteTime": {
     "end_time": "2020-06-29T17:21:43.299445Z",
     "start_time": "2020-06-29T17:21:42.680010Z"
    },
    "deletable": false,
    "editable": false,
    "run_control": {
     "frozen": true
    }
   },
   "outputs": [
    {
     "data": {
      "image/png": "[encoded data removed]",
      "text/plain": [
       "<Figure size 1080x360 with 1 Axes>"
      ]
     },
     "metadata": {
      "needs_background": "light"
     },
     "output_type": "display_data"
    }
   ],
   "source": [
    "pylab.figure(figsize=(15,5))\n",
    "counts_full[esb_region].plot()\n",
    "pylab.xlabel(\"Дата\")\n",
    "pylab.ylabel(\"Число поездок\")\n",
    "pylab.title(\"Количество поездок жёлтого такси из ячейки, содержащей Empire State Building\")\n",
    "pylab.grid(which='both')"
   ]
  },
  {
   "cell_type": "markdown",
   "metadata": {},
   "source": [
    "## Число пар час-ячейка в мае 2016, для которых не было совершено ни одной поездки"
   ]
  },
  {
   "cell_type": "code",
   "execution_count": 43,
   "metadata": {
    "ExecuteTime": {
     "end_time": "2020-06-29T17:21:43.317538Z",
     "start_time": "2020-06-29T17:21:43.300442Z"
    },
    "deletable": false,
    "editable": false,
    "run_control": {
     "frozen": true
    }
   },
   "outputs": [
    {
     "name": "stdout",
     "output_type": "stream",
     "text": [
      "Число пар час-ячейка в мае 2016, для которых не было совершено ни одной поездки 1718238\n"
     ]
    }
   ],
   "source": [
    "print(\"Число пар час-ячейка в мае 2016, для которых не было совершено ни одной поездки\", (counts_full == 0).sum().sum())"
   ]
  },
  {
   "cell_type": "markdown",
   "metadata": {},
   "source": [
    "## Сохренени агрегированных данных"
   ]
  },
  {
   "cell_type": "code",
   "execution_count": 45,
   "metadata": {
    "ExecuteTime": {
     "end_time": "2020-06-29T17:24:12.472427Z",
     "start_time": "2020-06-29T17:24:12.213655Z"
    },
    "deletable": false,
    "editable": false,
    "run_control": {
     "frozen": true
    }
   },
   "outputs": [],
   "source": [
    "counts_full.to_csv(\"2016-05-ct.csv\")"
   ]
  },
  {
   "cell_type": "code",
   "execution_count": null,
   "metadata": {},
   "outputs": [],
   "source": []
  }
 ],
 "metadata": {
  "hide_input": false,
  "kernelspec": {
   "display_name": "Python 3",
   "language": "python",
   "name": "python3"
  },
  "language_info": {
   "codemirror_mode": {
    "name": "ipython",
    "version": 3
   },
   "file_extension": ".py",
   "mimetype": "text/x-python",
   "name": "python",
   "nbconvert_exporter": "python",
   "pygments_lexer": "ipython3",
   "version": "3.7.6"
  },
  "toc": {
   "base_numbering": 1,
   "nav_menu": {},
   "number_sections": true,
   "sideBar": true,
   "skip_h1_title": false,
   "title_cell": "Содержание",
   "title_sidebar": "Содержание",
   "toc_cell": true,
   "toc_position": {
    "height": "calc(100% - 180px)",
    "left": "10px",
    "top": "150px",
    "width": "384px"
   },
   "toc_section_display": true,
   "toc_window_display": true
  },
  "varInspector": {
   "cols": {
    "lenName": 16,
    "lenType": 16,
    "lenVar": 40
   },
   "kernels_config": {
    "python": {
     "delete_cmd_postfix": "",
     "delete_cmd_prefix": "del ",
     "library": "var_list.py",
     "varRefreshCmd": "print(var_dic_list())"
    },
    "r": {
     "delete_cmd_postfix": ") ",
     "delete_cmd_prefix": "rm(",
     "library": "var_list.r",
     "varRefreshCmd": "cat(var_dic_list()) "
    }
   },
   "types_to_exclude": [
    "module",
    "function",
    "builtin_function_or_method",
    "instance",
    "_Feature"
   ],
   "window_display": false
  }
 },
 "nbformat": 4,
 "nbformat_minor": 4
}
